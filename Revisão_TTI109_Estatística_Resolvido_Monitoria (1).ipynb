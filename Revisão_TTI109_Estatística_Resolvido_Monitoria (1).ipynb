{
  "cells": [
    {
      "cell_type": "markdown",
      "metadata": {
        "id": "Mwf8pjO__j96"
      },
      "source": [
        "# TTI109 - Estatística\n",
        "# Exercícios de Revisão - P2 2023\n",
        "# Prof. Vitor Alex"
      ]
    },
    {
      "cell_type": "markdown",
      "metadata": {
        "id": "bDsxX6D7_iC8"
      },
      "source": [
        "## Instruções para uso das funções de teste de hipótese\n",
        "\n",
        "Nas 4 células ocultas abaixo estão os códigos das funções:\n",
        "\n",
        "* `TH_media_z`: Função para teste de hipótese da média populacional $\\mu$, com nível de significância $\\alpha$, supondo desvio padrão populacional $\\sigma$ conhecido (uso do valor-p).\n",
        "    \n",
        "* `TH_media_z_regiao`: Idem anterior, porém utilizando as regiões de rejeição como critério de decisão.\n",
        "\n",
        "* `TH_media_t`: Função para teste de hipótese da média $\\mu$, com nível de significância $\\alpha$, supondo desvio padrão populacional $\\sigma$ desconhecido.\n",
        "\n",
        "* `TH_vardp_chi2`: Função para teste de hipótese da variância $\\sigma^2$ ou do desvio padrão $\\sigma$ populacionais, com nível de significância $\\alpha$.\n",
        "\n",
        "**IMPORTANTE:** Execute as células ocultas! Não é necessário visualizá-las para que as funçõe sestejam disponíveis para uso. Entertanto, caso deseje verificar os códigos, clique no triângulo preto que antedece o título \"Instruções para uso das funções de teste de hipótese\"."
      ]
    },
    {
      "cell_type": "code",
      "execution_count": null,
      "metadata": {
        "id": "5_kRR8xr_cdr"
      },
      "outputs": [],
      "source": [
        "def TH_media_z(x_barra=None, n_amostras=None, mu=None,\n",
        "               sigma=None, alpha=0.05, teste='esquerda', conclusao=True):\n",
        "  '''Função para teste de hipótese da média populacional mu, com nível de\n",
        "  significância alpha, supondo desvio padrão populacional sigma conhecido.\n",
        "  ENTRADA:\n",
        "  - x_barra: média amostral\n",
        "  - n_amostras: número de amostras coletadas no experimento\n",
        "  - mu: hipótese nula para a média populacional\n",
        "  - sigma: desvio padrão populacional\n",
        "  - alpha: nível de significância adotado no teste (valor default 0.05)\n",
        "  - teste: string que identifica o tipo de teste a ser realizado: 'esquerda'\n",
        "  para teste unilateral à esquerda, 'direita', para teste unilateral à direita\n",
        "  e 'bilateral' para teste bilateral (valor default 'esquerda')\n",
        "  - conclusao: flag para ativação do relatório de conclusão do teste de hipótese\n",
        "  (valor default=True)\n",
        "  SAíDA:\n",
        "  - relatório de conclusão do teste de hipótese, caso cocnlusao=True\n",
        "  - p_valor: valor p do teste de hipótese'''\n",
        "\n",
        "  from scipy import stats as st\n",
        "\n",
        "  # Criação da distribuição amostral das médias\n",
        "  dist_amostras = st.norm(loc=mu, scale=sigma/n_amostras**0.5)\n",
        "  # loc: média da distribuição normal\n",
        "  # scale: desvio padrão da distribuição normal\n",
        "\n",
        "  # Cálculo do p-valor, de acordo com o tipo de teste\n",
        "  if teste == 'esquerda':\n",
        "    p_valor = dist_amostras.cdf(x_barra)\n",
        "    # cdf: cumulative distribution function (função de distribuição acumulada)\n",
        "    # ou seja, probabilidade de um valor menor ou igual a x_barra\n",
        "    tipo = 'unilateral à esquerda'\n",
        "  elif teste == 'direita':\n",
        "    p_valor = dist_amostras.sf(x_barra)\n",
        "    # sf: survival function (função de sobrevivência)\n",
        "    # ou seja, probabilidade de um valor maior ou igual a x_barra\n",
        "    tipo = 'unilateral à direita'\n",
        "  elif teste == 'bilateral':\n",
        "    # p_valor =  dist_amostras.cdf(x_barra) + dist_amostras.sf(x_barra)\n",
        "    p_valor =  2*abs(dist_amostras.sf(x_barra))\n",
        "    # 2*(dist_amostras.cdf(x_barra)) = dist_amostras.cdf(x_barra) + dist_amostras.sf(x_barra)\n",
        "    # ou seja, probabilidade de um valor menor ou igual a x_barra + probabilidade de um valor maior ou igual a x_barra\n",
        "    tipo = 'bilateral'\n",
        "\n",
        "  # Relatório de conclusão do teste de hipótese\n",
        "  if conclusao:\n",
        "    print('*** Teste de hipótese para a média populacional (desvio padrão conhecido) ***')\n",
        "    print(f'Teste {tipo} com p-valor = {p_valor:.6f}')\n",
        "    if p_valor <= alpha:\n",
        "      print(f'Hipótese nula rejeitada ao nível de significância {alpha*100}%')\n",
        "    else:\n",
        "      print(f'Hipótese nula NÃO rejeitada ao nível de significância {alpha*100}%')\n",
        "  return p_valor"
      ]
    },
    {
      "cell_type": "code",
      "execution_count": null,
      "metadata": {
        "id": "Irx3URtU_yRg"
      },
      "outputs": [],
      "source": [
        "def TH_media_z_regiao(x_barra=None, n_amostras=None, mu=None,\n",
        "                      sigma=None, alpha=0.05, teste='esquerda', conclusao=True):\n",
        "  '''Função para teste de hipótese da média populacional mu, com nível de\n",
        "  significância alpha, supondo desvio padrão populacional sigma conhecido.\n",
        "  ENTRADA:\n",
        "  - x_barra: média amostral\n",
        "  - n_amostras: número de amostras coletadas no experimento\n",
        "  - mu: hipótese nula para a média populacional\n",
        "  - sigma: desvio padrão populacional\n",
        "  - alpha: nível de significância adotado no teste (valor default 0.05)\n",
        "  - teste: string que identifica o tipo de teste a ser realizado: 'esquerda'\n",
        "  para teste unilateral à esquerda, 'direita', para teste unilateral à direita\n",
        "  e 'bilateral' para teste bilateral (valor default 'esquerda')\n",
        "  - conclusao: flag para ativação do relatório de conclusão do teste de hipótese\n",
        "  (valor default=True)\n",
        "  SAíDA:\n",
        "  - relatório de conclusão do teste de hipótese, caso cocnlusao=True\n",
        "  - z0: valor z crítico do teste de hipótese (fronteira da região de rejeição)'''\n",
        "\n",
        "  from scipy import stats as st\n",
        "\n",
        "  # Criação da distribuição normal padrão\n",
        "  dist_padrao = st.norm(loc=0, scale=1)\n",
        "\n",
        "  # Cálculo da estatística de teste padronizada\n",
        "  z = (x_barra-mu)/(sigma/n_amostras**0.5)\n",
        "\n",
        "  # Hipótese nula inicialmente validada\n",
        "  rejeicao = False\n",
        "\n",
        "  # Cálculo do z crítico, de acordo com o tipo de teste\n",
        "  if teste == 'esquerda':\n",
        "    z0 = dist_padrao.ppf(alpha)\n",
        "    # ppf: percent point function (função inversa da cdf)\n",
        "    # ou seja, valor de z que acumula uma probabilidade alpha\n",
        "    tipo = 'unilateral à esquerda'\n",
        "    # Decisão sobre pertinência de z à região de rejeição\n",
        "    if z <= z0:\n",
        "      rejeicao = True\n",
        "  elif teste == 'direita':\n",
        "    z0 = dist_padrao.ppf(1-alpha)\n",
        "    # 1 - alpha é a probabilidade acumulada na cauda direita da distribuição normal padrão\n",
        "    # ppf: percent point function (função inversa da cdf)\n",
        "    # ou seja, valor de z que acumula uma probabilidade 1-alpha\n",
        "    tipo = 'unilateral à direita'\n",
        "    # Decisão sobre pertinência de z à região de rejeição\n",
        "    if z >= z0:\n",
        "      rejeicao = True\n",
        "  elif teste == 'bilateral':\n",
        "    z0 = dist_padrao.ppf(alpha/2)\n",
        "    tipo = 'bilateral'\n",
        "    # Decisão sobre pertinência de z à região de rejeição\n",
        "    if (z <= z0) or (z >= -z0):\n",
        "      rejeicao = True\n",
        "\n",
        "  # Relatório de conclusão do teste de hipótese\n",
        "  if conclusao:\n",
        "     print('*** Teste de hipótese para a média populacional (desvio padrão conhecido) ***')\n",
        "     print(f'Teste {tipo} com z0 = {z0:.6f}')\n",
        "     if rejeicao:\n",
        "      print(f'Hipótese nula rejeitada ao nível de significância {alpha*100}%')\n",
        "     else:\n",
        "      print(f'Hipótese nula NÃO rejeitada ao nível de significância {alpha*100}%')\n",
        "  return z0"
      ]
    },
    {
      "cell_type": "code",
      "execution_count": null,
      "metadata": {
        "id": "XBTXQAfW_3Wr"
      },
      "outputs": [],
      "source": [
        "def TH_media_t(x_barra=None, n_amostras=None, mu=None, s=None,\n",
        "               alpha=0.05, teste='esquerda', conclusao=True):\n",
        "  '''Função para teste de hipótese da média mu, com nível de significância\n",
        "     alpha, supondo desvio padrão populacional sigma desconhecido.\n",
        "     ENTRADA:\n",
        "     - x_barra: média amostral\n",
        "     - n_amostras: número de amostras coletadas no experimento\n",
        "     - mu: hipótese nula para a média populacional\n",
        "     - s: desvio padrão amostral\n",
        "     - alpha: nível de significância adotado no teste (valor default 0.05)\n",
        "     - teste: string que identifica o tipo de teste a ser realizado: 'esquerda'\n",
        "     para teste unilateral à esquerda, 'direita', para teste unilateral à direita\n",
        "     e 'bilateral' para teste bilateral (valor default 'esquerda')\n",
        "     - conclusao: flag para ativação do relatório de conclusão do teste de hipótese\n",
        "     (valor default=True)\n",
        "     SAÍDA:\n",
        "     - relatório de conclusão do teste de hipótese, caso cocnlusao=True\n",
        "     - t0: valor crítico do teste de hipótese'''\n",
        "\n",
        "  from scipy import stats as st\n",
        "\n",
        "  # Criação da distribuição t\n",
        "  dist_t = st.t(df=n_amostras-1)\n",
        "\n",
        "  # Cálculo da estatística de teste padronizada\n",
        "  t = (x_barra-mu)/(s/n_amostras**0.5)\n",
        "\n",
        "  # Hipótese nula inicialmente validada\n",
        "  rejeicao = False\n",
        "\n",
        "  # Cálculo do t crítico (t0), de acordo com o tipo de teste\n",
        "  if teste == 'esquerda':\n",
        "    t0 = dist_t.ppf(alpha)\n",
        "    tipo = 'unilateral à esquerda'\n",
        "    # Decisão sobre pertinência de t à região de rejeição\n",
        "    if t <= t0:\n",
        "      rejeicao = True\n",
        "  elif teste == 'direita':\n",
        "    t0 = dist_t.ppf(1-alpha)\n",
        "    tipo = 'unilateral à direita'\n",
        "    # Decisão sobre pertinência de t à região de rejeição\n",
        "    if t >= t0:\n",
        "      rejeicao = True\n",
        "  elif teste == 'bilateral':\n",
        "    t0 = dist_t.ppf(alpha/2)\n",
        "    tipo = 'bilateral'\n",
        "    # Decisão sobre pertinência de t à região de rejeição\n",
        "    if (t <= t0) or (t >= -t0):\n",
        "      rejeicao = True\n",
        "\n",
        "  # Relatório de conclusão do teste de hipótese\n",
        "  if conclusao:\n",
        "    print('*** Teste de hipótese para a média populacional (desvio padrão desconhecido) ***')\n",
        "    print(f'Teste {tipo} com t0 = {t0:.5f}')\n",
        "    if rejeicao:\n",
        "      print(f'Hipótese nula rejeitada ao nível de significância {alpha*100}%')\n",
        "    else:\n",
        "      print(f'Hipótese nula NÃO rejeitada ao nível de significância {alpha*100}%')\n",
        "  return t0"
      ]
    },
    {
      "cell_type": "code",
      "execution_count": null,
      "metadata": {
        "id": "GHbbTyEu_7o7"
      },
      "outputs": [],
      "source": [
        "def TH_vardp_chi2(est_amostral=None, n_amostras=None, val_parametro=None,\n",
        "                  parametro='sigma', alpha=0.05, teste='esquerda',\n",
        "                  conclusao=True):\n",
        "  '''Função para teste de hipótese da variância ou do desvio padrão populacional,\n",
        "  com nível de significância alpha.\n",
        "  ENTRADA:\n",
        "  - est_amostral: variância ou desvio padrão amostral\n",
        "  - n_amostras: número de amostras coletadas no experimento\n",
        "  - val_parametro = valor a ser testado, seja variância ou desvio padrão\n",
        "  - parametro = 'sigma2' para teste de variância e 'sigma' para teste de\n",
        "  desvio padrão populacional\n",
        "  - alpha: nível de significância adotado no teste (valor default 0.05)\n",
        "  - teste: string que identifica o tipo de teste a ser realizado: 'esquerda'\n",
        "  para teste unilateral à esquerda, 'direita', para teste unilateral à direita\n",
        "  e 'bilateral' para teste bilateral (valor default 'esquerda')\n",
        "  - conclusao: flag para ativação do relatório de conclusão do teste de hipótese\n",
        "  (valor default=True)\n",
        "  SAÍDA:\n",
        "  - relatório de conclusão do teste de hipótese, caso cocnlusao=True\n",
        "  - chi2: valor da estatística padronizada\n",
        "  - X20: valor(es) crítico(s) do teste'''\n",
        "\n",
        "  from scipy import stats as st\n",
        "\n",
        "  # Criação da distribuição chi-quadrado\n",
        "  dist_chi2 = st.chi2(df=n_amostras-1)\n",
        "\n",
        "  # Cálculo da estatística de teste padronizada\n",
        "  if parametro == 'sigma2':\n",
        "    chi2 = (n_amostras-1)*est_amostral/val_parametro\n",
        "    param = 'variância'\n",
        "  elif parametro == 'sigma':\n",
        "    chi2 = (n_amostras-1)*est_amostral**2/val_parametro**2\n",
        "    param = 'desvio padrão'\n",
        "\n",
        "  # Hipótese nula inicialmente validada\n",
        "  rejeicao = False\n",
        "\n",
        "  # Cálculo do chi2 crítico, de acordo com o tipo de teste\n",
        "  if teste == 'esquerda':\n",
        "    X20 = dist_chi2.ppf(alpha)\n",
        "    tipo = 'unilateral à esquerda'\n",
        "    # Decisão sobre pertinência de X20 à região de rejeição\n",
        "    if chi2 <= X20:\n",
        "      rejeicao = True\n",
        "  elif teste == 'direita':\n",
        "    X20 = dist_chi2.ppf(1-alpha)\n",
        "    tipo = 'unilateral à direita'\n",
        "    # Decisão sobre pertinência de X20 à região de rejeição\n",
        "    if chi2 >= X20:\n",
        "      rejeicao = True\n",
        "  elif teste == 'bilateral':\n",
        "    X2L = dist_chi2.ppf(alpha/2)\n",
        "    X2R = dist_chi2.ppf(1-alpha/2)\n",
        "    tipo = 'bilateral'\n",
        "    X20 = (X2L, X2R)\n",
        "    # Decisão sobre pertinência de X20 à região de rejeição\n",
        "    if (chi2 <= X2L) or (chi2 >= X2R):\n",
        "      rejeicao = True\n",
        "\n",
        "  # Relatório de conclusão do teste de hipótese\n",
        "  if conclusao:\n",
        "    print(f'*** Teste de hipótese para {param} populacional ***')\n",
        "    print(f'Teste {tipo} com:')\n",
        "    print(f'Estatística de teste padronizada = {chi2:.4f}')\n",
        "    if isinstance(X20, tuple):\n",
        "      print(f'Valores chi-quadrado críticos X2L = {X20[0]:.4f} e X2R = {X20[1]:.4f}')\n",
        "    else:\n",
        "      print(f'Valor chi-quadrado crítico = {X20:.4f}')\n",
        "    if rejeicao:\n",
        "      print(f'Hipótese nula rejeitada ao nível de significância {alpha*100}%')\n",
        "    else:\n",
        "      print(f'Hipótese nula NÃO rejeitada ao nível de significância {alpha*100}%')\n",
        "  return chi2, X20"
      ]
    },
    {
      "cell_type": "markdown",
      "metadata": {
        "id": "BYE6FblwAGZ1"
      },
      "source": [
        "## Importações dos módulos básicos"
      ]
    },
    {
      "cell_type": "code",
      "execution_count": null,
      "metadata": {
        "id": "FnsDSUZ-AJzM"
      },
      "outputs": [],
      "source": [
        "# Importação de módulos\n",
        "import pandas as pd\n",
        "import matplotlib.pyplot as plt\n",
        "import numpy as np"
      ]
    },
    {
      "cell_type": "markdown",
      "metadata": {
        "id": "3Z_S8BuZAMms"
      },
      "source": [
        "**Exercício 01**\n",
        "\n",
        "Os sistemas de escapamento de uma aeronave funcionam devido a um propelente sólido. A taxa de queima desse propelente é uma característica importante do produto. As especificações requerem que a taxa média de queima tem de ser 50 cm/s. Sabe-se, de estudos anteriores, que o desvio padrão da taxa de queima é de 2 cm/s.\n",
        "\n",
        "Para testar o requisito de queima, um pesquisador coleta uma amostra aleatória de 25 propelentes, obtendo uma taxa média de queima de 51,3 cm/s.\n",
        "\n",
        "Ao nível de significância de 5%, há evidências para afirmar que o requisito de queima está satisfeito? Assuma que a população é normalmente distribuída."
      ]
    },
    {
      "cell_type": "code",
      "execution_count": null,
      "metadata": {
        "id": "HhQfLzL8HPle",
        "outputId": "b58cba04-822f-484f-b4bb-5cff5acf0aa5"
      },
      "outputs": [
        {
          "data": {
            "text/plain": [
              "'Construção do teste de hipótese:\\nH0: mu = 50 cm/s (afirmação)\\nHa: mu != 50 cm/s\\nTipo de teste: bilateral'"
            ]
          },
          "execution_count": 25,
          "metadata": {},
          "output_type": "execute_result"
        }
      ],
      "source": [
        "'''Construção do teste de hipótese:\n",
        "H0: mu = 50 cm/s (afirmação)\n",
        "Ha: mu != 50 cm/s\n",
        "Tipo de teste: bilateral'''"
      ]
    },
    {
      "cell_type": "code",
      "execution_count": null,
      "metadata": {
        "colab": {
          "base_uri": "https://localhost:8080/"
        },
        "id": "TkzpVbhhHgu3",
        "outputId": "4c94f6ed-6da5-4c3c-f57b-e8251a9744ac"
      },
      "outputs": [
        {
          "name": "stdout",
          "output_type": "stream",
          "text": [
            "*** Teste de hipótese para a média populacional (desvio padrão conhecido) ***\n",
            "Teste bilateral com p-valor = 0.001154\n",
            "Hipótese nula rejeitada ao nível de significância 5.0%\n"
          ]
        }
      ],
      "source": [
        "# Uso da função adequada para o teste\n",
        "valor_p = TH_media_z(x_barra=51.3, n_amostras=25, mu=50,\n",
        "                     sigma=2, alpha=0.05, teste='bilateral', conclusao=True)"
      ]
    },
    {
      "cell_type": "code",
      "execution_count": null,
      "metadata": {
        "colab": {
          "base_uri": "https://localhost:8080/"
        },
        "id": "SgNnBdBWNclS",
        "outputId": "021afc86-6346-4de7-8c28-3bcf14f86938"
      },
      "outputs": [
        {
          "name": "stdout",
          "output_type": "stream",
          "text": [
            "*** Teste de hipótese para a média populacional (desvio padrão conhecido) ***\n",
            "Teste bilateral com z0 = -1.959964\n",
            "Hipótese nula rejeitada ao nível de significância 5.0%\n"
          ]
        }
      ],
      "source": [
        "z0 = TH_media_z_regiao(x_barra=51.3, n_amostras=25, mu=50,\n",
        "                       sigma=2, alpha=0.05, teste='bilateral', conclusao=True)"
      ]
    },
    {
      "cell_type": "code",
      "execution_count": null,
      "metadata": {
        "id": "CJGz1hiBHnMR",
        "outputId": "bf808f96-ceff-40d4-8c7c-2002f82af40f"
      },
      "outputs": [
        {
          "data": {
            "text/plain": [
              "'Conclusão: Não há evidências suficientes ao nível de significância de 5% para\\nafirmar que o requisito de queima está satisfeito.'"
            ]
          },
          "execution_count": 42,
          "metadata": {},
          "output_type": "execute_result"
        }
      ],
      "source": [
        "'''Conclusão: Não há evidências suficientes ao nível de significância de 5% para\n",
        "afirmar que o requisito de queima está satisfeito.'''"
      ]
    },
    {
      "cell_type": "markdown",
      "metadata": {
        "id": "79ux55_KBThO"
      },
      "source": [
        "**Exercício 02**\n",
        "\n",
        "Semear nuvens tem sido estudado durante muitas décadas como um procedimento de mudança do tempo. A precipitação pluviométrica, em acres-pés, proveniente de 20 nuvens que foram selecionadas aleatoriamente e semeadas com nitrato de prata são armazenadas na variável `pluvio`, definida a seguir."
      ]
    },
    {
      "cell_type": "code",
      "execution_count": null,
      "metadata": {
        "id": "JVCU5VnSCYbk"
      },
      "outputs": [],
      "source": [
        "pluvio = pd.Series([18.0, 30.7, 19.8, 27.1, 22.3, 18.8, 31.8, 23.4, 21.2, 27.9,\n",
        "                    31.9, 27.1, 25.0, 24,7, 26.9, 21.8, 29.2, 34.8, 26.7, 31,6])"
      ]
    },
    {
      "cell_type": "markdown",
      "metadata": {
        "id": "1iIx4-ANCwuf"
      },
      "source": [
        "Ao nível de significância de 1%, é possível sustentar a afirmação de que a precipitação média das nuvens semeadas excede 25 acres-pés? Assuma que a população é normalmente distribuída."
      ]
    },
    {
      "cell_type": "code",
      "execution_count": null,
      "metadata": {
        "id": "5ZZrlonIHX4u",
        "outputId": "6315ca8a-c72c-45fd-93d2-7eeb8dcb4c8f"
      },
      "outputs": [
        {
          "data": {
            "text/plain": [
              "'Construção do teste de hipótese:\\nH0: pm <= 25 acrés-pés\\nHa: pm > 25 acrés-pés (afirmação)\\nTipo de teste: unilateral à direita'"
            ]
          },
          "execution_count": 30,
          "metadata": {},
          "output_type": "execute_result"
        }
      ],
      "source": [
        "'''Construção do teste de hipótese:\n",
        "H0: pm <= 25 acrés-pés\n",
        "Ha: pm > 25 acrés-pés (afirmação)\n",
        "Tipo de teste: unilateral à direita'''"
      ]
    },
    {
      "cell_type": "code",
      "execution_count": null,
      "metadata": {
        "colab": {
          "base_uri": "https://localhost:8080/"
        },
        "id": "fhFryFWEHbIo",
        "outputId": "517cceb3-be51-45bd-e048-0e87884b42d5"
      },
      "outputs": [
        {
          "name": "stdout",
          "output_type": "stream",
          "text": [
            "*** Teste de hipótese para a média populacional (desvio padrão desconhecido) ***\n",
            "Teste unilateral à direita com t0 = 2.51765\n",
            "Hipótese nula NÃO rejeitada ao nível de significância 1.0%\n"
          ]
        }
      ],
      "source": [
        "# Uso da função adequada para o teste\n",
        "t0 = TH_media_t(x_barra=pluvio.mean(), n_amostras=len(pluvio), mu=25,\n",
        "                s=pluvio.std(ddof=1), alpha=0.01, teste='direita',\n",
        "                conclusao=True)"
      ]
    },
    {
      "cell_type": "code",
      "execution_count": null,
      "metadata": {
        "id": "pzNxyNtyHjcf",
        "outputId": "e85ed122-9e40-4d03-acc1-7a0d2349b8a4"
      },
      "outputs": [
        {
          "data": {
            "text/plain": [
              "'Conclusão: Não há evidências suficientes ao nível de significância de 1% para\\nconcordar com afirmação de que a precipitação média das nuvens semeadas\\nexcede 25 acres-pés.'"
            ]
          },
          "execution_count": 32,
          "metadata": {},
          "output_type": "execute_result"
        }
      ],
      "source": [
        "'''Conclusão: Não há evidências suficientes ao nível de significância de 1% para\n",
        "concordar com afirmação de que a precipitação média das nuvens semeadas\n",
        "excede 25 acres-pés.'''"
      ]
    },
    {
      "cell_type": "markdown",
      "metadata": {
        "id": "C7eOwANvDLGC"
      },
      "source": [
        "**Exercício 03**\n",
        "\n",
        "Uma máquina de enchimento automático é usada para encher garrafas com detergente líquido. Se a variância do volume de enchimento for diferente de 0,01 (onças-fluidas)^2, existirá um proporção inaceitável de garrafas cujo enchimento não foi completo e cujo enchimento foi em demasia.\n",
        "\n",
        "Uma amostra aleatória de 20 garrafas resulta em uma avariância amostral de volume de enchimento de 0,0153 (onças-fluidas)^2. Ao nível de significância de 5%, há evidências suficientes que sugiram um problema na linha de enchimento das garrafas? Assuma que a população é normalmente distribuída."
      ]
    },
    {
      "cell_type": "code",
      "execution_count": null,
      "metadata": {
        "id": "gljI5OszHZI3",
        "outputId": "e83e1d68-8e57-4215-e485-fbdb5a01126d"
      },
      "outputs": [
        {
          "data": {
            "text/plain": [
              "'Construção do teste de hipótese:\\nH0: sigma^2 = 0.01 (afirmação)\\nHa: sigma^2 != 0.01\\nTipo de teste: bilateral'"
            ]
          },
          "execution_count": 33,
          "metadata": {},
          "output_type": "execute_result"
        }
      ],
      "source": [
        "'''Construção do teste de hipótese:\n",
        "H0: sigma^2 = 0.01\n",
        "Ha: sigma^2 != 0.01 (afirmação)\n",
        "Tipo de teste: bilateral'''"
      ]
    },
    {
      "cell_type": "code",
      "execution_count": null,
      "metadata": {
        "colab": {
          "base_uri": "https://localhost:8080/"
        },
        "id": "35xySpenHfaP",
        "outputId": "c8bbc877-a634-44af-b8d6-56e78350e434"
      },
      "outputs": [
        {
          "name": "stdout",
          "output_type": "stream",
          "text": [
            "*** Teste de hipótese para variância populacional ***\n",
            "Teste bilateral com:\n",
            "Estatística de teste padronizada = 29.0700\n",
            "Valores chi-quadrado críticos X2L = 8.9065 e X2R = 32.8523\n",
            "Hipótese nula NÃO rejeitada ao nível de significância 5.0%\n"
          ]
        }
      ],
      "source": [
        "# Uso da função adequada para o teste\n",
        "X20 = TH_vardp_chi2(est_amostral=0.0153, n_amostras=20,val_parametro=0.01,\n",
        "                    parametro='sigma2', alpha=0.05, teste='bilateral',\n",
        "                    conclusao=True)"
      ]
    },
    {
      "cell_type": "code",
      "execution_count": null,
      "metadata": {
        "id": "22-Fo4GYHotA",
        "outputId": "8156a726-3eb6-451a-cd61-9a99ed5b4831"
      },
      "outputs": [
        {
          "data": {
            "text/plain": [
              "'Conclusão: Não há evidências suficientes ao nível de significância de 5%\\npara afirmar que existe problema na linha de produção.'"
            ]
          },
          "execution_count": 35,
          "metadata": {},
          "output_type": "execute_result"
        }
      ],
      "source": [
        "'''Conclusão: Não há evidências suficientes ao nível de significância de 5%\n",
        "para afirmar que existe problema na linha de produção.'''"
      ]
    },
    {
      "cell_type": "markdown",
      "metadata": {
        "id": "hIgnAvJtFhzq"
      },
      "source": [
        "**Exercício 04**\n",
        "\n",
        "Para testar a vida útil de pneus de carros de passeio, uma empresa selecionou uma amostra de 16 unidades e determinou que o desvio padrão na vida útil foi de 3695,94 km. Ao nível de significância de 5%, é possível concluir que o desvio padrão da vida útil de um pneu é menor do que 4000 km?"
      ]
    },
    {
      "cell_type": "code",
      "execution_count": null,
      "metadata": {
        "id": "0AtKec5yHaPH",
        "outputId": "0ea6760c-18b4-4bf0-be76-a4d3cb6cff87"
      },
      "outputs": [
        {
          "data": {
            "text/plain": [
              "'Construção do teste de hipótese:\\nH0: sigma >= 4000 km\\nHa: sigma < 4000 km (afirmação)\\nTipo de teste: unilateral à esquerda'"
            ]
          },
          "execution_count": 36,
          "metadata": {},
          "output_type": "execute_result"
        }
      ],
      "source": [
        "'''Construção do teste de hipótese:\n",
        "H0: sigma >= 4000 km\n",
        "Ha: sigma < 4000 km (afirmação)\n",
        "Tipo de teste: unilateral à esquerda'''"
      ]
    },
    {
      "cell_type": "code",
      "execution_count": null,
      "metadata": {
        "colab": {
          "base_uri": "https://localhost:8080/"
        },
        "id": "_CtwZ8ybHibu",
        "outputId": "2c2de203-e04b-41df-8322-761cb2176e10"
      },
      "outputs": [
        {
          "name": "stdout",
          "output_type": "stream",
          "text": [
            "*** Teste de hipótese para desvio padrão populacional ***\n",
            "Teste unilateral à esquerda com:\n",
            "Estatística de teste padronizada = 12.8062\n",
            "Valor chi-quadrado crítico = 7.2609\n",
            "Hipótese nula NÃO rejeitada ao nível de significância 5.0%\n"
          ]
        }
      ],
      "source": [
        "# Uso da função adequada para o teste\n",
        "X20 = TH_vardp_chi2(est_amostral=3695.94, n_amostras=16, val_parametro=4000,\n",
        "                    parametro='sigma', alpha=0.05, teste='esquerda',\n",
        "                    conclusao=True)"
      ]
    },
    {
      "cell_type": "code",
      "execution_count": null,
      "metadata": {
        "id": "GTXLDC5XHpdh",
        "outputId": "da533443-7e0e-4660-ce0f-889f27080ca3"
      },
      "outputs": [
        {
          "data": {
            "text/plain": [
              "'Conclusão: Há evidências suficientes ao nível de significância para rejeitar\\na afirmação de que o desvio padrão da vida útil de um pneu é menor do\\nque 4000 km.'"
            ]
          },
          "execution_count": 38,
          "metadata": {},
          "output_type": "execute_result"
        }
      ],
      "source": [
        "'''Conclusão: Há evidências suficientes ao nível de significância para rejeitar\n",
        "a afirmação de que o desvio padrão da vida útil de um pneu é menor do\n",
        "que 4000 km.'''"
      ]
    }
  ],
  "metadata": {
    "colab": {
      "collapsed_sections": [
        "bDsxX6D7_iC8"
      ],
      "provenance": []
    },
    "kernelspec": {
      "display_name": "Python 3 (ipykernel)",
      "language": "python",
      "name": "python3"
    },
    "language_info": {
      "codemirror_mode": {
        "name": "ipython",
        "version": 3
      },
      "file_extension": ".py",
      "mimetype": "text/x-python",
      "name": "python",
      "nbconvert_exporter": "python",
      "pygments_lexer": "ipython3",
      "version": "3.11.4"
    }
  },
  "nbformat": 4,
  "nbformat_minor": 0
}