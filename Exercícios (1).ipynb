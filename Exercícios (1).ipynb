{
  "nbformat": 4,
  "nbformat_minor": 0,
  "metadata": {
    "colab": {
      "provenance": []
    },
    "kernelspec": {
      "name": "python3",
      "display_name": "Python 3"
    },
    "language_info": {
      "name": "python"
    }
  },
  "cells": [
    {
      "cell_type": "code",
      "source": [
        "# Download da biblioteca desenvolvida em sala de aula\n",
        "# funcoes_estatisticas.py\n",
        "\n",
        "%%capture\n",
        "!gdown --id 19ZOCX1U8uHLrqJGf5PPG4vSoRC7GihuT"
      ],
      "metadata": {
        "id": "106oSz6hhvIq"
      },
      "execution_count": 1,
      "outputs": []
    },
    {
      "cell_type": "code",
      "source": [
        "import funcoes_estatisticas as fest"
      ],
      "metadata": {
        "id": "Z1yyoq7jinV2"
      },
      "execution_count": 2,
      "outputs": []
    },
    {
      "cell_type": "markdown",
      "source": [
        "## Níveis de dióxido de nitrogênio\n",
        "\n",
        "Um cientista estima que o nível médio de dióxido de nitrogênio em Calgary é maior que 32 partes por bilhão. Você quer testar essa estimativa. Para isso, você determina os níveis de dióxido de nitrogênio em 34 dias selecionados aleatoriamente. Os resultados (em partes por bilhão) estão listados na tabela a seguir.\n",
        "\n",
        "![P2-Q1.png](data:image/png;base64,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)\n",
        "\n",
        "Suponha que o desvio padrão populacional é de 9 partes por bilhão. Para o nível de significância $\\alpha = 0,06$, você pode concordar com a estimativa do cientista? (Adaptado de *Clean Air Strategic Alliance*)"
      ],
      "metadata": {
        "id": "1KuWBUknlMsG"
      }
    },
    {
      "cell_type": "code",
      "source": [
        "import pandas as pd\n",
        "# Conjunto de dados - Pandas Series\n",
        "NO2 = pd.Series([24, 36, 44, 35, 44, 34, 29, 40, 39, 43, 41, 32, 33, 29,\n",
        "                 29, 43, 25, 39, 25, 42, 29, 22, 22, 25, 14, 15, 14, 29,\n",
        "                 25, 27, 22, 24, 18, 17])"
      ],
      "metadata": {
        "id": "McEpCDa5lWW1"
      },
      "execution_count": 4,
      "outputs": []
    },
    {
      "cell_type": "code",
      "source": [
        "''' Configuração do teste de hipótese :\n",
        "H0: mu <= 32 partes por bilhão\n",
        "Ha: mu > 32 partes por bilhão (afirmação)\n",
        "Tipo:  Unilateral à direita '''"
      ],
      "metadata": {
        "id": "uv7LrEgvnZrx"
      },
      "execution_count": null,
      "outputs": []
    },
    {
      "cell_type": "code",
      "source": [
        "fest.TH_media_z(x_barra=NO2.mean(), n_amostras=len(NO2), mu=32, sigma=9, alpha=0.06, teste='direita', conclusao=True)"
      ],
      "metadata": {
        "colab": {
          "base_uri": "https://localhost:8080/"
        },
        "id": "SYxPMZLhok-O",
        "outputId": "21cf5746-900d-41e8-8e87-16c4e002588f"
      },
      "execution_count": 6,
      "outputs": [
        {
          "output_type": "stream",
          "name": "stdout",
          "text": [
            "*** Teste de hipótese para a média populacional (desvio padrão conhecido) ***\n",
            "Teste unilateral à direita com p-valor = 0.933886\n",
            "Hipótese nula NÃO rejeitada ao nível de significância 6.0%\n"
          ]
        },
        {
          "output_type": "execute_result",
          "data": {
            "text/plain": [
              "0.9338863424254171"
            ]
          },
          "metadata": {},
          "execution_count": 6
        }
      ]
    },
    {
      "cell_type": "code",
      "source": [
        "'''Conclusão : Há evidências suficiente ao nivel de significância de 6% para refutar a afirmação de que o nível médio de dióxido de nitrogênio em Calgary é maior que 32 partes por bilhão'''"
      ],
      "metadata": {
        "colab": {
          "base_uri": "https://localhost:8080/",
          "height": 53
        },
        "id": "J0xLcIB3qV4G",
        "outputId": "541a82be-01d5-4be3-8b01-b1d68143f077"
      },
      "execution_count": 9,
      "outputs": [
        {
          "output_type": "execute_result",
          "data": {
            "text/plain": [
              "'Conclusão : Há evidências suficiente ao nivel de significância de 6% para refutar a afirmação de que o nível médio de dióxido de nitrogênio em Calgary é maior que 32 partes por bilhão'"
            ],
            "application/vnd.google.colaboratory.intrinsic+json": {
              "type": "string"
            }
          },
          "metadata": {},
          "execution_count": 9
        }
      ]
    },
    {
      "cell_type": "code",
      "source": [
        "z0 = fest.TH_media_z_regiao(x_barra=NO2.mean(), n_amostras=len(NO2), mu=32, sigma=9, alpha=0.06, teste='direita', conclusao=True)"
      ],
      "metadata": {
        "colab": {
          "base_uri": "https://localhost:8080/"
        },
        "id": "tFng1EAWq9Rn",
        "outputId": "1805051d-59b6-45cb-8b1c-d9cebd50b0ff"
      },
      "execution_count": 10,
      "outputs": [
        {
          "output_type": "stream",
          "name": "stdout",
          "text": [
            "*** Teste de hipótese para a média populacional (desvio padrão conhecido) ***\n",
            "Teste unilateral à direita com z0 = 1.554774\n",
            "Hipótese nula NÃO rejeitada ao nível de significância 6.0%\n"
          ]
        }
      ]
    },
    {
      "cell_type": "markdown",
      "source": [
        "## Salários anuais\n",
        "\n",
        "Uma agência de empregos afirma que o salário médio anual para trabalhadoras de período integral, mulheres, maiores de 25 anos e sem diploma no ensino médio é no máximo US$\\$$ 18.500. Os salários anuais (em dólares) para uma amostra aleatória de 12 trabalhadoras de período integral, mulheres e sem diploma de ensino médio estão listados na tabela a seguir.\n",
        "\n",
        "![P2-Q2.png](data:image/png;base64,iVBORw0KGgoAAAANSUhEUgAAAXEAAABxCAIAAACskgRHAAAAAXNSR0IArs4c6QAAAARnQU1BAACxjwv8YQUAAAAJcEhZcwAADsMAAA7DAcdvqGQAABvcSURBVHhe7Z37XxNX3sef/yQuAZbywqJSio+10loXq4+w1la8tIqWasAKcZGLlWDLReXSEh4ElFgXNAJrQAMKqMgaFVRwCRoUFlGjXBofY4uFlIsJjs+cySSZmcyA6BCG9ft+fX8gk5nJnDPn+5lzZobz+a+XAAAA/AGaAgAAn4CmAADAJzRNCc89BwEBATHZIBWEgKkpV+78AgEBAfHqAZoCAQHBZ4CmQEBA8BmgKRAQEHwGaAoEBASfAZoCAQHBZ4CmvFXRqcyKW5t87jxzOQQEbwGaMlOi93zN8R2RMZHxP0RHx0kSv1uffF7DXMcWt9uLktZ5imaJfX44orMvf6g+GD1n9jqpUsux4YMTud8GzP5cWnbH6SuBhPCPEAI0ZabEtVNbA9Yl1j4gPnYq920OSDjHqSl3ftGU/zCbpik9taUZG2KPKq91U1ejR9sByYdikc/SzKuXmF8JJIR/hBCgKTMjes8VxbwjWiYt7ySX3NIk7r8wGU15tbjRcrT86plbTsuFE8I/wrc+QFNmRPRU5oaLcY2Yvfbb3HOV2l58ydnr9y6jrx5Wlh2MzT5VpDywYdmqr5JOVRL5RtOUW62F+7NSlWcLMqVBy7bFEmOfy9fOxa6cg+9zdnzRgdjPAzYcU1+1LSF7QPieD0hicv9XWZoYI5OVtZISpr2W/Z0stqBKoTwcs2F31qUeynGy/lb3maL4APxgRJ9IVVplpiRA/FHo3vO11GNIOHfxuib5a7wPMkv8xd8r0a5YykVdX3Onr/586Y7ojMzS6gJ56prtx4mtIKY/QFNmRlw6n7/0T3haovAICJMWaGqtHZAryjXi+V8dvoUPiApjPhKL3v/qsA5fTtGUntMHIz3/HC2/2nOltXqb9yyxOEp+DVele0cSPsH35rlgzRcr3hcvzFK2kUuIjLUKgXVvvTWHozxFn3xddPPyne7K3G88vHYeaML30H36YE4GTVM4fkt3TuqDH3ngppjthLjg8Xlird5+DMQv2nTTqins5aKu/6/9oXO8IyrO4ivf1mYllYKmCCRAU2ZK3CvLlX5okxWxyHtR9Mkzt0nt8PhKeYaWb1RNsS6fG3qw1Zbbn0jL79nz0yemul6rK798n5axbVcSP/GyrWnb2yc5ZW33i2XLxCK3d1fK9p/SaVo7a1v7qAfJ/lvk3++vkV+rv6lJWIzvmViHdsw0TeEoF+VvXf3O99zwfa7Y+ffiBn399c56x2FATGeApsyg6K6trUiU/BWlN4r/2Xnq3pVrVd8uXrqu4MalO+0F0YG23KP1U2pLf/hoQVRm/cMr/6rcivcd6JpiXZ/YP2VJgzIU6RddU/4kyWp4dL4sydbXmBsUewrXNcoRcvwWTcta9n/xrlj07srclnE0haNc1PU7CmOWEoeBF3PVt8pbxEgQYvoDNGVGRO+5xo6L5N/3K8t+WjUbv0Rb0/KXK9rWI7n7JLuyY76ab8s3qqagzesvndv/XaI0KzXUy57br6cp+EinUynfucQHPwB8BULXyM2twfZbr6EpeLCUi37MNzRpETaF/WBf8U3qYUBMW4CmzIjoqSw8UtDca/v4UJW5Dk/RbWX/Rtfzj7zFy3LKbnVR843RT1n0J++gvVc0bGMfMj9RUJZwjn16zlTUn7yNhCM1YpmHXdfI4Pit1+unsJSLun7b38u1l3GFLS/cjK8pCt/PuFsMMU0BmjIjAs+3rYuiT1if6Vy50164c9m7awpP3Oom83CB7MCFf6ZueB//2yem+p80TbHmsPt/x6gqqgvX/BnP7Y+2lXVOoCmc92h7KvOSdp66i9ZHd2EZ/RSO3+LUlAfK5L/iv/hO+D9qbncpk0NRWZCm2PSFWS7qEbakR/5U3ILu5vyzTOYD/RTBBGjKjIieyp/lO/cmb4lKlCb8II1J2Lb3pOoG6rZcblBLV37g4fPpGtnxnw//EOQzd9GGrMIrt8j3aMWbvj/XeUaZtuJ979kfbdmpqJInfD4bXznp9Omr5HNZjyDZj7UdlylPdj2/OHgC3XllfZbcU3nwu1VRWZnK6kLFgdgcDf01/2623zpVUpG1Qoxryvuh++srLyg3B7jjuhMgUVa09mkuVZDHv+twZuIapCO+2/fX32ct16HqM5QjbMnavmVL8tGCsqrsfT/tPW17cwdiugM0BQICgs8ATYGAgOAzQFMgICD4DNAUCAgIPgM0BQICgs8ATYGAgOAzJtAUCAgIiMkGqSAETE0h/wIAAHg1QFMAAOAT0BQAAPgENAUAAD4BTQEAgE9AUwAA4JP/ZE3BTF3NHb+THwAAcAku1RTM1FmVsjla3Ut+fjlm6qjYE5dVoi7LiwrbUXLbhJFfMLE80alz46Nk8uJLD0fsK2EW461K+S5pYvZRjX7Euqj/YtJ7YvQv83i4bVS0m4jFgmXMdPd06ur4yscW9AnTl4fNJQ+ejGUZTc+INUcNDQWSQG98oWdgTEn7746qwga6qtJCt1c9Jj/jjD5u+jmaWFnsFiQdp2IFw6TbBmddTbShpbs2LniL44cEhsXQpJB+7IZKRDvRlr6GvIR4eam6KFWaVNFhGrMuZoFRQPYNuZvTG+MqTcFFoSI3adc3y93m2kuLGap3zAsv0Y+iD0NNGfMDd9T0OpcNM7Ud3bpScviG0UL9cszUrpQs3na45QmRjlbMBnXKHtVVrZW2XgHnEi6IN0/Kv/8ufJmnKIrQFMzcUbQjvaqZPHrtv1SJC+ZnNg/hZcCGdYrIJJXOOGzS16Qs9/FcU6J/ge9k1KhT58jitnzqIw5X2zQFM989tjksU91wQ9tYlRO+UCwKSmn8jfxSgLxO2+Csq4k2HOlRx/qLHD8kMIa6iqI3ZVQ0tNxorM7ZMk8sfi+tcRA/08MPSiS+UTVGVBJTW17oxylX+tnbNqOArBtyNSd+cJGmYKZHtx8NYhatfI69tKMPSzaL52RrSUl4qklcJA4p6mKUzXyvXLIkRH5jkFaDmFmvinhvbU4LvWKf38r/bFfFA/q6AmXMpO98ZBqzaLP9SE2xPNXe6HL0wka6ijYuSG8aQn8/1ciPtZFfEfX2F0UHfr3BBh7e7jZhJm32MoqmPGvOzKi1KS1mUEvcxIvydNzXtWnmtdoGV12NvyFm6analRC7zUeomjLUlLW79glZLItBHe0pWpmvGyLEcW6Y6hHxDTbalDHXXVppMBOrUXEqIPuGBvbmxBOu6qdYobUbIhMcp5/46L6rrp9auNEeVaTXO7vrfqOX+IW+fJPf7Li63+yNCjHWr0kmpnQX+62SHW0ykDsWNhRNofOiszgkxDbwoYI3AklIXusw+RGHoSmjvz7ud+wO1bn3yqJO/q5DU8Ok2wYFR12Nu6FFX5mQUWdoovyQwLD0P/6V6GEREG3jy+KukbEOxVLRMrnWNpB/rN4iWhBX94T8aMepgK+woXNzelOmUVMIgXSLriRznzj9jOzC+x1LPLy+3leYHBbo5rciKrf27gD2Enuuyw8S+X+TnpvyZaDnnBCpvLaLGCVipt62pvryvPgv5ojFbp+lXuyj7EugcGnKi66ileTAhwZmaj2SWtZOG04TVefQFBqYsUb6zqbiu0R3R8hMtm1QoNTVOBvig4LU7+sM9A6RkLEYa2JnhxZ3mcf663Z5MaXBY6minS6xzgWceEO25vSmTKOm4L2NknVuvqH5reiuB/Z/dXELxe9mNI86sgjTl6wVzfLaeKjFOGoxNhVs9BMHZjWbhlG7EfmF5TcZLaPGlkNh7h4fp1+n3owlbsEsFLPlpNDg0BTqwMfGiL6hNDd+lb94zrrUqk7KraJxNAUfn29dyRw5CpJJtg0KtLri2hAfFCTEV/VYMMYPCRdzR/GajcTo3vJYHSVmSsMsP3tvDMFawHE35GxOb8p0agp+VTFofgyd4xO4atOWyC+Xu8/yiq3rJ79CEPlmXx8bakz1FS1OaeymX7X6G5MXi31SG+nygfWoNrkRY1Fhw64pXAMfvCemPZsfvlDstl7R/ge5kFNTMPODssiIUsp9BwEzybbhgFlXbBvig4L4lMoe4tngzNCU4QclcZElHcQRvxjQ7JnNlAb6eJa9gBNtyN6c3pTp1RQHxOVlSZLGdn+KAPVpqbfoUY3gH7u6ir6kaIpVjJ3SEv1WqKKDx3HilMCqKVwDHytoOONOrUZ2TcEGb+REZGkMjvG5oJlk27AzTl05NiSuz5SnzkRwjBYFwNhgS0Fkar3B9qBz4tsiHAXse4UbMU7N6U0RhqagJ+pL/KPUqOdGBd219nYM/1CNBMu1A0NNmQtEdr0gNGWBXMvoGA9oZB/O0LEP28CHClMu2TQFXbgSS+6SjQkzGR49Fba4TLZtkHDXFdeG3OIlDIhRTHSZrXc5ZurreTpwPWO+n+2Yicc3bhHlPc+Jj05QC4gyaKINmc3pTRGAplj6GuThS7YqbTeKMLP+1I7lm3KanmIvh/UqqX/w4Q4zXr8YLiULgwt0wxjxgHlxiOIO8TDtWXP6SnTj+kWP5uCBo43W+7IjPard21T3nJ+2CQ0WTbF35s331dGr1sqv95v7GkvLLnQNEK1sbLApZ3PqJeKNAytOmmLp06TuLtA9s66CmR5pcuRVLI8ehcSk2wYB1yCRuSEFQWsKZjHUp0X/rCMPe8zUczEnrdqAmdoVG33JB51DHYr1AbKL6DUKewtxNAZGAdk2nKA5vSmu0hTM2HZWXZ4XHSia5bU65bi6ulH/B/b05snCtLioPQVVtyjvs2HDuoIQt0Xkq0rotcLYsLiCcnVxRnxWFXrug9axPL6miPomvvCEWpmZkHYaPfdB9RvkKfL/InafPLugTPDPkrGnurPqf+RvXyIWzQ1NLlJXXbW+Iow689bbQ8Ot+cG+/tHVhuFOVZS9aPKCCq2tuixPdRcqVbnRH3qI3demKE9WNepHXpq6SqL86d1gp+fuQuK12wa1rmxwbEhByJoy0lGydSH1xIlFC+Pr/g8VA79OZMbJUINPi9hRSmqlvYVQC8oooPOGI1zNiR9c208BAOA/HdAUAAD4BDQFAAA+AU0BAIBPQFMAAOAT0BQAAPgENAUAAD4BTQEAgE9AUwAA4BPQFAAA+AQ0BQAAPgFNAQCAT0BTAADgE9AUAHjb4dddz2WaQsxOsD3IE/37tvfHUbZ/1iZw8ouyM2bqOJkmk5eo1eWFu8KiaVu9RO42VTlxf5NlKzV66sx3mMVQE/9eNHPmNwHB5ek1amg4uCMuR6U+khKVWtHB7uTEqC5ilkzqf8fPQhPx/vGA235MiLB5ho1z6gmQG1YkYa9FbVEcdYv93lGRmZStVKtPKOK+Gc+gbnph9wwbL32YsJuiMZNi6tz1XKUp5o7iTZJM9WVtS0O1fKu/SByQ3DCIL2fzi3Iw2JDyQaLNiAPNKOOY0Qv7vb04asnWI1qj0/RlFn1l1KJxplmfbrg8vTDzg9JNPrG1RvywCW+AwP2NDPcJluoa6jgsy6i+Rnpnaa+WJy5dkH79d077MeHB2gbGOfUkA7r8uD2qm0bzgL4mdYWb77qSey846/bFYGPaIvskMuY7imC2mZymHw7PMK70YYHDFI2ZFFPorucaTcGGmvISa/rIw8Z6Krf6iT/IaxtDU5A5+UU5QHOgOWbcMfeqJJ7ba4zobzT/W0BwrnbQWa2RI8Gu2M2+wtUULk+vZ83py8QbVeR0Q6NNGe/6R6i7qeeapbowY2vjfauvK4Kc9+wpt/2Y4GBtA9yn3sbA5ZyDN8mCY/dLQucSc4xy1S2aCs83udF2QXpUvjEwusZg/SQg2D3DTFzp4wSXKZpTUkylu56LNMXy65NfHXNJEXMdUm3lODQFbxMR7j4rkmv0eE/P8qBcEpZJTBr4olu12d02/xUNok731Bla2CajFwocnl5j7Yq/eFAMFnorw+eyTxbPUV047BM+c02wKCjoheI69ezgmrJmY75ugLNu0WVZ6uX2WUrNPROGWborIkJ+auJyIJtGODzDJkgfO3hnhMUUzTkpptZdzzWaQgf7pTZq8dqiDsf8qJxJYp0GUey3OiFj/4+2wpva8laJ3TdnHEre8KGP33JpTo3NncRap0YL28TRAsXh6dVfF+dONW1BmsJuOslZXez9kfFn4RcKzEKxnnpWxkw6ZdqxNufeO80vjZyW0T80cV96+vHmx8K3E7B7htEL5pw+JBymaGxJMaXueq7XFHzEW7wuhD5s4UwS/Kvu2vjPAj/wFrsFx6vaUbtBHV0fXFMKWp5YLE9a8jd7iYIzmvDLOV6nKQlqPV47M0dTKJ5ehJ0CU1McNp0UuKqLvT8i6IGPA+dCOZ96JtiIvqEMJYaH3+o021zFdhh+aegmZcLywEVuszw/3V3Ocf9bQDg8w6iwpQ+C1TMMZ4KkmAp3PZdrirmrJCLO7hFBwpUk6NqyPqmu12zqrJSt9BQtjFDdM6OVKeYsQ40pPrN8kxt+t9cpR/UJD7qn14BG9o6TprB3cdmrawYPfHAYhWI99eR3NDBTT+v5vC3zxJ4hh9uf28vO8EvDRu6WSoJT6gxDprvqpOU+4nnScr2QvZ+onmEUWNMHB++MsHiGUYSGOyl4d9dzraZg/dqcuDTnjhZ7kqC+nxdpxIF/6q6NW4wE1fTv4hBvivUEkXvhKi1yDiMejDmCTacEA9PT603vp8zkgQ8OrVAcp56zFMT6lIRh1i0aLyyymbdYn6p6CLjvxvQMI+FKHxx2z7BXSwpU8zPV3wfvhiXvsEsvZup79CtZO+xJwrCtsToexdQaf0XPRxw3GvDc81uY3UIdH8+Afgq6sDA8vZ6gctnLi577zN2k0rOkEWt1zeiBDw6tUFynnvOuKjrj9ibhXLePr9JrbKA5PYj5IEkoEJ0LhmcYEhfu9GHAnk3cScG3u57LNGXUcPHHHQWEMzYO3mHVHNxbZXtQSquFYb06YUVobnO/ebAxLeCd3baXFMwG9Y4FyMoEM+tVEfPWKzqITBlqyliwjrjn70DomsLu6fV8pP3nUB9reTFzx+GQ95I16NmEvUJsGcXWaGb2wAeHVij0OgnHqSc9w8yGq2XH6pGvEw72W3OmNK3B5oPDUrePG5ODHCZHWHelJNhuEiQkuDzDONJnYs8wB46kmGJ3PddoCjGanWd7ac8a1hbD4hdl0OWt9ZwXX2swE+8+pm0J36NQnSovypSlnuwg6xq9KynduEuhqjieLtvr5EovbE0Zx9Nr1KDJkSYeLFcXpUp2296hHKBUCIu9FloF9Ue+dLx/YQMJjZM7veBgLRT7qbd7hnUP3z0hDfQWz1kdl/6TPPtQhdb6Ugpn3WKm9orkyC2yQ+XqE0Xpe9IqWG/6TjfsnmGPh7nS51U8w2w4kmKK3fVc1k8BAOCtADQFAAA+AU0BAIBPQFMAAOAT0BQAAPgENAUAAD4BTQEAgE9AUwAA4BPQFAAA+AQ0BQAAPgFNAQCAT0BTAADgE9AUAAD45D9BU/h1PAIA4E1wmaa8nmcYZjFcyd+6BG1F89Ya3/GIaY8kPPj0DKMwaqjZHeCYygjfW4GE+BWK+5RQwQa6qtJCt1fZDh7NTlCetDvzeIXqwN/WsnqGjVNAp72RWJ7o1LnxUTJ58aWHDq8SIcHuGYYv72vIS4iXl6qLUqVJFbZJPyiMtyHDWe15jyqCyER7iHmcuMtVmvJ6nmHDrQURqeW6J2bTvdrkzzzdwkv01uncxnU8srxVnmF2MEuPWjpPbJseDRvWKSKTVDrjsElfk7Lcx3NNid55altBMGrUqXNkcVs+9XHM7Yb11kYHrS25T5zYZ83py5mzhHAWkG1vBMR8zislh28YGXMyCggOzzA0Pa3EN6rGiA7c1JYX+nHKFfrk11wbsjmrme8cjv6xuqmFTJ8bJ2Tzl/M4cZdrNOX1PMNeDGgKD+lIuzVMX7JWZJs1czzHI+RI8BZ5htlBlgtxcZELbYn0VCM/1kZeikcflmxmt/UQAtjAw9vdJow2XyRxupfJtdbuJ94S9swmnG6Ij1Y4Csi2N4T5XrlkSYhjGn1Bwu4ZNoQmM5w/N0z1iPiGmEnTXVppoMzNxrUhq7PaU93VLke/nvcZi12kKa/nGUYFb2Trggt0w/hOxnE8crZHEiBT4RmGlPT7urstjEQiwVNOEpLXKuR54hlz0BKTktk1xfpxQVzdE+tHJ5wLyNCU0R5VpJdjMkqhwuEZNtahWEqpDWJGa3ptcGxIfrbicFajwv+Mxa7RFDqT8AyzgT3T/fzTMdsQkdPxCF2r30LPMFJJjc4XZwLM1HoktWw8125BQDt4op/iJ1H3WM84cUI5WwhbAelVgXdsl3h4fb2vMDks0M1vRVRuLdMMSIDYPcPG+ut2eTE1xYPwcmWF1WyMw1ltCmYsdr2mTNIz7OUfDxtO5Met9hP5h6acJuc0tkF3PJrAHkmQ8OEZhqaJt3q7OGnKiL6hNDd+lb94zrpUp1l7BQb94F/cK1nj67n6EDHb89hvdbtni4IymhjX2HEK6KxQs7w2HmoxjlqMTQUb/cSBWc0mgd5eInF4hlkeI0sNhqZQmwodptnYeM5qU2HV4nJNmZRnGMmYqbf1fJ7EX+SzUnH7ObmQxOZ49Mer2CMJDF48wxxKyqIpOHinTns2P3yh2G29ot06IbYwYRw8ZjFczFzt7/nhqm/Ct2741FfsvquO1eGYvYC0vdG7OdhQY6qvaHFKI8uwUjBQPcOst5MYmmL1gXaG3WyMw1ltSqxaXKsp2KQ8w+igEdN8ZsLgoG1DFR2DhJZTH4/hMdE+pxWePMMI6WEWnKmnaITlLujaYBdEK6jPMjdAdpFh80nFqYC0vaGrMbUxoJwUcm0wPcMmvp9CwmE2RsJ0VpsiqxZXagq36dGraApqJcEsY0g2x6MZ0E9x9rV6Q88wBHdaksor5Lu0XAdPvHQzL5Y07uSCWUD63tBzE29H40E5GSzXko8UBQabZ9jA9Yz5frYzbnVQiyjvYXbZOczGHKC8oNyhm4qBD47LNOU1PMOGDI2qYxe6rJtgg9czN2U1GF/J8UjomjIpzzBnX6hX0RRLX2Np2YUu6+B5bLApZ3PqJeLtBsHCqimjhobcsMVRR+1vcNlrwzx+ARl7G9arpP6kWSo21JS5kHyGKDS4PMNM7YqNvqQJ1FCHYj3Za3O0DdYNz3T/wuGshpgqj0rXaMrreYb1d52I/dhN7LcqJiM7W55/Smskhgmv4HgkbE2ZpGcY1ReK0zPMCiWRRjpVUfZakhdUaAX8opflqe5CpSo3+kMPsfvaFOXJqkb9CGbUVRxKjf1bUv5pnfW8W7HXxjBXAdn2hhYbmhSxYXEF5erijPgsxq1KocDuGWbzV8yMkxWeUCvTInbY3ip21AaX2RirsxoBGvgsnYqbSi7rpwAA8FYAmgIAAJ+ApgAAwCegKQAA8AloCgAAfAKaAgAAn4CmAADAJxNoCgQEBMRkg1QQApqmAAAAvCGgKQAA8AloCgAAfAKaAgAAn4CmAADAJ6ApAADwCWgKAAB8ApoCAAB/vHz5/2IkLvd8n8NsAAAAAElFTkSuQmCC)\n",
        "\n",
        "Considerando o nível de significância $\\alpha = 0,10$, há evidência suficiente para concordar com a afirmação da agência? (Adaptado de *U.S. Bureau of Labor Statistics*)"
      ],
      "metadata": {
        "id": "W3_xUef9lTMF"
      }
    },
    {
      "cell_type": "code",
      "source": [
        "# Conjunto de dados - Pandas Series\n",
        "salarios = pd.Series([19665, 17312, 19794, 20403,\n",
        "                      21864, 20177, 18328, 22445,\n",
        "                      21354, 20143, 19316, 20237])"
      ],
      "metadata": {
        "id": "iiL4e7SiliOn"
      },
      "execution_count": 7,
      "outputs": []
    },
    {
      "cell_type": "code",
      "source": [
        "''' Configuração do teste de hipótese :\n",
        "H0: mu <= 18.500 dólares (afirmação)\n",
        "Ha: mu > 18.500 dólares\n",
        "Tipo:  Unilateral à direita'''"
      ],
      "metadata": {
        "id": "PVOR8M9Aprcd"
      },
      "execution_count": null,
      "outputs": []
    },
    {
      "cell_type": "code",
      "source": [
        "fest.TH_media_z(x_barra=salarios.mean(), n_amostras=len(salarios), mu=18500, sigma=salarios.std(ddof=1), alpha=0.10, teste='direita', conclusao=True)"
      ],
      "metadata": {
        "colab": {
          "base_uri": "https://localhost:8080/"
        },
        "id": "ZrbUHH6mrYXC",
        "outputId": "602e6eb1-6bbd-4230-c983-f32a36a3e695"
      },
      "execution_count": 11,
      "outputs": [
        {
          "output_type": "stream",
          "name": "stdout",
          "text": [
            "*** Teste de hipótese para a média populacional (desvio padrão conhecido) ***\n",
            "Teste unilateral à direita com p-valor = 0.000053\n",
            "Hipótese nula rejeitada ao nível de significância 10.0%\n"
          ]
        },
        {
          "output_type": "execute_result",
          "data": {
            "text/plain": [
              "5.299589121632229e-05"
            ]
          },
          "metadata": {},
          "execution_count": 11
        }
      ]
    },
    {
      "cell_type": "code",
      "source": [
        "'''Conclusão : Há evidências suficiente ao nivel de significância de 10% para refutar a afirmação de que o salário médio anual para trabalhadoras de período integral, mulheres, maiores de 25 anos e sem diploma no ensino médio é no máximo US $  18.500 '''"
      ],
      "metadata": {
        "id": "eOI-pijauDNj"
      },
      "execution_count": null,
      "outputs": []
    },
    {
      "cell_type": "code",
      "source": [
        "z0 = fest.TH_media_z_regiao(x_barra=salarios.mean(), n_amostras=len(salarios), mu=18500, sigma=salarios.std(ddof=1), alpha=0.10, teste='direita', conclusao=True)"
      ],
      "metadata": {
        "colab": {
          "base_uri": "https://localhost:8080/"
        },
        "id": "87WIfQMnuh8t",
        "outputId": "30de7a5c-8bbb-473d-9507-ce4806b62c02"
      },
      "execution_count": 12,
      "outputs": [
        {
          "output_type": "stream",
          "name": "stdout",
          "text": [
            "*** Teste de hipótese para a média populacional (desvio padrão conhecido) ***\n",
            "Teste unilateral à direita com z0 = 1.281552\n",
            "Hipótese nula rejeitada ao nível de significância 10.0%\n"
          ]
        }
      ]
    }
  ]
}